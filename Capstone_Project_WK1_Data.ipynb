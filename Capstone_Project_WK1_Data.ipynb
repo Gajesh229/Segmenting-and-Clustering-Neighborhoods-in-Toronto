{
 "cells": [
  {
   "cell_type": "markdown",
   "metadata": {},
   "source": [
    "# Capstone Project - The Battle of Neighborhoods (Week 1)\n",
    "\n",
    "<b>Challenge:</b> Clearly define a problem or an idea of your choice, where you would need to leverage the Foursquare location data to solve or execute. Remember that data science problems always target an audience and are meant to help a group of stakeholders solve a problem, so make sure that you explicitly describe your audience and why they would care about your problem.\n",
    "\n",
    "This submission will eventually become your Introduction/Business Problem section in your final report. So I recommend that you push the report (having your Introduction/Business Problem section only for now) to your Github repository and submit a link to it.\n",
    "\n",
    "For this week, you will required to submit the following:\n",
    "\n",
    "1. A description of the problem and a discussion of the background. (15 marks)\n",
    "2. <b>A description of the data and how it will be used to solve the problem. (15 marks)</b>"
   ]
  },
  {
   "cell_type": "markdown",
   "metadata": {},
   "source": [
    "## 2. Data"
   ]
  },
  {
   "cell_type": "markdown",
   "metadata": {},
   "source": [
    "This section will cover a description of the data and how it will be used to solve the problem."
   ]
  },
  {
   "cell_type": "markdown",
   "metadata": {},
   "source": [
    "### 2.1 Data Description"
   ]
  },
  {
   "cell_type": "markdown",
   "metadata": {},
   "source": [
    "<p> We will use following Wikipedia page to scrape out postal codes of the Toronto area, their respective borough and their neiborhoods. We will be focusing on Etobicoke borough only.</p>\n",
    "<a href='https://en.wikipedia.org/wiki/List_of_postal_codes_of_Canada:_M'> Wikipedia page </a>\n",
    "\n",
    "<p> After getting postal codes, borough and neighborhoods from the above wikipedia page, we will be using Google maps Geocoding API to get the latitude and the longitude coordinates of each neighborhood. For simplicity of this project I have gathered all the information in the CSV file. Here is a link to a csv file that has the geographical coordinates of each postal code: <br>\n",
    "    <a href='https://cf-courses-data.s3.us.cloud-object-storage.appdomain.cloud/IBMDeveloperSkillsNetwork-DS0701EN-SkillsNetwork/labs_v1/Geospatial_Coordinates.csv'> GeoSpatial Dataset </a> </p>\n"
   ]
  },
  {
   "cell_type": "markdown",
   "metadata": {},
   "source": [
    "### 2.2 FourSquare API Data"
   ]
  },
  {
   "cell_type": "markdown",
   "metadata": {},
   "source": [
    "<p> We will need data about different venues in different neighborhoods of Etobicoke. In order to gain information we will use FourSquare locational information. FourSquare is a location data provider with information about all manner of venues and events with an area of interest. Such information includes venue names, locations, menues and even photos. As such, the FourSquare location platform will be used as the sole data source since all the stated required information can be obtained through the API. </p>\n",
    "<p> After finding the list of neighborhoods, we then connect to FourSquare API to gather information about venues inside each and every neighborhood. For each neighborhood, w have chosen the radius to be 500 meters.<p>\n",
    "<p> The data retrieved from FourSquare contained information of venues within a specified distance of the longitude and latitude of the postal codes. The information obtained per venues as follows: </p>\n",
    "\n",
    "1. Venue <br>\n",
    "2. Name of the venue\n",
    "3. Venue Latitude\n",
    "4. Venue Longitude\n",
    "5. Venue Category "
   ]
  },
  {
   "cell_type": "code",
   "execution_count": null,
   "metadata": {},
   "outputs": [],
   "source": []
  }
 ],
 "metadata": {
  "kernelspec": {
   "display_name": "Python 3",
   "language": "python",
   "name": "python3"
  },
  "language_info": {
   "codemirror_mode": {
    "name": "ipython",
    "version": 3
   },
   "file_extension": ".py",
   "mimetype": "text/x-python",
   "name": "python",
   "nbconvert_exporter": "python",
   "pygments_lexer": "ipython3",
   "version": "3.8.5"
  }
 },
 "nbformat": 4,
 "nbformat_minor": 4
}
