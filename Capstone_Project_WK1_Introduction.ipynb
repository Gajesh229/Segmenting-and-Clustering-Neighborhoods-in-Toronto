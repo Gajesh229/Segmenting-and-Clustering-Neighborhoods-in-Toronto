{
 "cells": [
  {
   "cell_type": "markdown",
   "metadata": {},
   "source": [
    "# Capstone Project - The Battle of Neighborhoods (Week 1)\n",
    "\n",
    "<b>Challenge:</b> Clearly define a problem or an idea of your choice, where you would need to leverage the Foursquare location data to solve or execute. Remember that data science problems always target an audience and are meant to help a group of stakeholders solve a problem, so make sure that you explicitly describe your audience and why they would care about your problem.\n",
    "\n",
    "This submission will eventually become your Introduction/Business Problem section in your final report. So I recommend that you push the report (having your Introduction/Business Problem section only for now) to your Github repository and submit a link to it.\n",
    "\n",
    "For this week, you will required to submit the following:\n",
    "\n",
    "1. <b> A description of the problem and a discussion of the background. (15 marks) </b>\n",
    "2. A description of the data and how it will be used to solve the problem. (15 marks)"
   ]
  },
  {
   "cell_type": "markdown",
   "metadata": {},
   "source": [
    "## 1. Introduction"
   ]
  },
  {
   "cell_type": "markdown",
   "metadata": {},
   "source": [
    "This section will cover the background information, problem for Jay and his confusion of where to open South Asian Plaza in Etobicoke city in Canada and who he wants to target to."
   ]
  },
  {
   "cell_type": "markdown",
   "metadata": {},
   "source": [
    "### 1.1 Background Information"
   ]
  },
  {
   "cell_type": "markdown",
   "metadata": {},
   "source": [
    "<p> Canada is a very diverse country which welcomes people from all over the world. There are several provinces in Canada in which Ontario is the biggest one by population and in this province GTA (Greater Toronto Area) is the most crowded and the most populous metropolitan area in Canada. </p>\n",
    "<p> Etobicoke is one of the city in this area, which has a highly diversified population, which totalled 365,143 in 2016. Out of that number more than 13% of people are from South Asia which means that the demand of their choice of foods and other items would be higher too! </p>\n",
    "<p> In addition to these, Etobicoke is very near to the Pearson Airport (Biggest & busiest airport in Canada), Humber College (One of top colleges in Ontario for international students), The BAPS Shri Swaminarayan Temple (Religious place for Hindu community) and several other religious places (Gurudwara, Mosques, Temples) </p>"
   ]
  },
  {
   "cell_type": "markdown",
   "metadata": {},
   "source": [
    "### 1.2 Problem Statement: Where should Jay open South Asian Plaza?"
   ]
  },
  {
   "cell_type": "markdown",
   "metadata": {},
   "source": [
    "<p> In this report, we are trying to find a suitable neighborhood for Jay to make his decision that where should he open South Asian Plaza? </p>\n",
    "<p> Jay is 40 years old who born in an Indian family. He came to canada with his parents in 1990. He has been living in Etobicoke since then but his problem is that since he came here to now, he couldn't find the one stop place where he can eat local Indian food, shop Indian groceries or other things such as buy sweets. He is a business man who wants to help other people, not just Indian, but the people from the neighbour countries such as Pakistan, Nepal, Bangladesh, Sri Lanka who are homesick or who can find themselves at home and find things they want from one place </p>\n",
    "<p> Jay is looking for help from someone who can help him to decide where he can open this plaza. He wants this place to be located at very convenient location for everybody. </p>"
   ]
  },
  {
   "cell_type": "markdown",
   "metadata": {},
   "source": [
    "### 1.3 Target Audience"
   ]
  },
  {
   "cell_type": "markdown",
   "metadata": {},
   "source": [
    "<p> This report is an analysis of the neighborhoods of Etobicoke in order to help Jay to make his decision.</p>\n",
    "<p> The information gathered from FourSquare in combination with Data Science methods are a good basis to derive data driven decisions regarding neighbourhoods that best fit the specific needs at hand. We are also going to use K-Means clustering algorithm to achieve the task. Folium visualization library will be used to visualize the clusters superimposed on the map of Etobicoke. These clusters can be analyzed to help Jay to make his decision</p>\n",
    "<p> As we know already, Target Audience would be Jay who wants to open a South Asian Plaza in Etobicoke, but any stake holders can use this approach whether they want to open any shop, restaurants or anything. </p>"
   ]
  },
  {
   "cell_type": "code",
   "execution_count": null,
   "metadata": {},
   "outputs": [],
   "source": []
  }
 ],
 "metadata": {
  "kernelspec": {
   "display_name": "Python 3",
   "language": "python",
   "name": "python3"
  },
  "language_info": {
   "codemirror_mode": {
    "name": "ipython",
    "version": 3
   },
   "file_extension": ".py",
   "mimetype": "text/x-python",
   "name": "python",
   "nbconvert_exporter": "python",
   "pygments_lexer": "ipython3",
   "version": "3.8.5"
  }
 },
 "nbformat": 4,
 "nbformat_minor": 4
}
